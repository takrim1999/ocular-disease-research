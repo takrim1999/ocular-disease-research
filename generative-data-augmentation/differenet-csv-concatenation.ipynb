{
 "cells": [
  {
   "cell_type": "markdown",
   "metadata": {},
   "source": [
    "## Part 1 - First Dataset Preparation"
   ]
  },
  {
   "cell_type": "code",
   "execution_count": null,
   "metadata": {
    "_cell_guid": "b1076dfc-b9ad-4769-8c92-a6c4dae69d19",
    "_uuid": "8f2839f25d086af736a60e9eeb907d3b93b6e0e5",
    "execution": {
     "iopub.execute_input": "2023-09-27T19:50:54.615679Z",
     "iopub.status.busy": "2023-09-27T19:50:54.615086Z",
     "iopub.status.idle": "2023-09-27T19:51:10.612091Z",
     "shell.execute_reply": "2023-09-27T19:51:10.611075Z",
     "shell.execute_reply.started": "2023-09-27T19:50:54.615645Z"
    },
    "trusted": true
   },
   "outputs": [],
   "source": [
    "import pandas as pd\n",
    "import numpy as np\n",
    "import cv2\n",
    "import os\n",
    "import random\n",
    "import tensorflow as tf\n",
    "import re\n",
    "\n",
    "DATA_PATH = \"/kaggle/input/ocular-disease-recognition-odir5k/preprocessed_images\"\n",
    "IMG_SIZE = 224\n",
    "\n",
    "data = pd.read_csv(\"/kaggle/input/ocular-disease-recognition-odir5k/full_df.csv\")"
   ]
  },
  {
   "cell_type": "code",
   "execution_count": null,
   "metadata": {
    "execution": {
     "iopub.execute_input": "2023-09-27T19:51:10.614370Z",
     "iopub.status.busy": "2023-09-27T19:51:10.613990Z",
     "iopub.status.idle": "2023-09-27T19:51:10.622974Z",
     "shell.execute_reply": "2023-09-27T19:51:10.622032Z",
     "shell.execute_reply.started": "2023-09-27T19:51:10.614337Z"
    },
    "trusted": true
   },
   "outputs": [],
   "source": [
    "# A dictionary that maps short class names (abbreviations) to full class names\n",
    "class_short2full = {\n",
    "    \"D\": \"Diabetic Retinopathy\",  # 'D' maps to 'Diabetic Retinopathy'\n",
    "    \"G\": \"Glaucoma\",  # 'G' maps to 'Glaucoma'\n",
    "    \"C\": \"Cataract\",  # 'C' maps to 'Cataract'\n",
    "    \"A\": \"Age Related Macular Degeneration\",  # 'A' maps to 'Age Related Macular Degeneration'\n",
    "    \"H\": \"Hypertension\",  # 'H' maps to 'Hypertension'\n",
    "    \"M\": \"Myopia\",  # 'M' maps to 'Myopia'\n",
    "    \"N\": \"Normal\"  # 'N' maps to 'Normal'\n",
    "}\n",
    "\n",
    "# A dictionary that maps short class names (abbreviations) to their corresponding integer labels\n",
    "class_dict = {\n",
    "    \"D\": 0,  # 'D' is assigned the label 0\n",
    "    \"G\": 1,  # 'G' is assigned the label 1\n",
    "    \"C\": 2,  # 'C' is assigned the label 2\n",
    "    \"A\": 3,  # 'A' is assigned the label 3\n",
    "    \"H\": 4,  # 'H' is assigned the label 4\n",
    "    \"M\": 5,  # 'M' is assigned the label 5\n",
    "    \"N\": 6   # 'N' is assigned the label 6\n",
    "}\n"
   ]
  },
  {
   "cell_type": "code",
   "execution_count": null,
   "metadata": {
    "execution": {
     "iopub.status.busy": "2023-09-27T19:50:12.605679Z",
     "iopub.status.idle": "2023-09-27T19:50:12.606623Z",
     "shell.execute_reply": "2023-09-27T19:50:12.606409Z",
     "shell.execute_reply.started": "2023-09-27T19:50:12.606371Z"
    },
    "trusted": true
   },
   "outputs": [],
   "source": [
    "# Create a new column 'class' in the DataFrame by extracting alphabetic characters from the 'labels' column\n",
    "# The lambda function applies a regular expression to each value in 'labels', which extracts only the alphabetic characters\n",
    "# The 'join' method concatenates the extracted characters with a space in between\n",
    "data[\"class\"] = data[\"labels\"].apply(lambda x: \" \".join(re.findall(\"[a-zA-Z]+\", x)))\n"
   ]
  },
  {
   "cell_type": "code",
   "execution_count": null,
   "metadata": {
    "execution": {
     "iopub.status.busy": "2023-09-27T19:50:12.607887Z",
     "iopub.status.idle": "2023-09-27T19:50:12.608827Z",
     "shell.execute_reply": "2023-09-27T19:50:12.608612Z",
     "shell.execute_reply.started": "2023-09-27T19:50:12.608584Z"
    },
    "trusted": true
   },
   "outputs": [],
   "source": [
    "# Define a list of classes to be excluded from processing\n",
    "EXCLUDE_CLASSES = [\"D\", \"N\"]  # \"D\" for Diabetic Retinopathy and \"N\" for Normal\n",
    "\n",
    "# Define the complete list of classes that the model can predict\n",
    "CLASSES = [\"D\", \"G\", \"C\", \"A\", \"H\", \"M\", \"N\"]  # D: Diabetic Retinopathy, G: Glaucoma, C: Cataract, A: Age-related Macular Degeneration, H: Hypertension, M: Myopia, N: Normal"
   ]
  },
  {
   "cell_type": "code",
   "execution_count": null,
   "metadata": {
    "execution": {
     "iopub.status.busy": "2023-09-27T19:50:12.610261Z",
     "iopub.status.idle": "2023-09-27T19:50:12.610715Z",
     "shell.execute_reply": "2023-09-27T19:50:12.610512Z",
     "shell.execute_reply.started": "2023-09-27T19:50:12.610491Z"
    },
    "trusted": true
   },
   "outputs": [],
   "source": [
    "# Create a dictionary where each key is a class label and the value is a list of filenames corresponding to that class\n",
    "dict_img_list = {\n",
    "    class_: data.loc[data[\"class\"] == class_][\"filename\"].values  # Filter the 'data' DataFrame for each class and retrieve the filenames\n",
    "    for class_ in class_short2full.keys()  # Iterate over each class label from the 'class_short2full' dictionary keys\n",
    "}"
   ]
  },
  {
   "cell_type": "code",
   "execution_count": null,
   "metadata": {
    "execution": {
     "iopub.status.busy": "2023-09-27T19:50:12.612979Z",
     "iopub.status.idle": "2023-09-27T19:50:12.613809Z",
     "shell.execute_reply": "2023-09-27T19:50:12.613488Z",
     "shell.execute_reply.started": "2023-09-27T19:50:12.613466Z"
    },
    "trusted": true
   },
   "outputs": [],
   "source": [
    "def create_dataset(img_list, class_label, max_images=None):\n",
    "    # Initialize an empty list to store the dataset and a counter for the number of processed images\n",
    "    dataset = []\n",
    "    count = 0\n",
    "    \n",
    "    # Loop through each image in the provided image list\n",
    "    for img in img_list:\n",
    "        # If a maximum image count is specified, stop processing when the count is reached\n",
    "        if max_images is not None and count >= max_images:\n",
    "            break\n",
    "        \n",
    "        # Construct the full path to the image file\n",
    "        image_path = os.path.join(DATA_PATH, img)\n",
    "        # Read the image using OpenCV\n",
    "        image = cv2.imread(image_path)\n",
    "        \n",
    "        # If the image couldn't be loaded (None), skip it\n",
    "        if image is None:\n",
    "            continue\n",
    "        \n",
    "        # Convert the image from BGR (OpenCV default) to RGB\n",
    "        image = cv2.cvtColor(image, cv2.COLOR_BGR2RGB)\n",
    "        # Resize the image to the target size (IMG_SIZE x IMG_SIZE)\n",
    "        image = cv2.resize(image, (IMG_SIZE, IMG_SIZE))\n",
    "        # Append the processed image and its associated class label to the dataset\n",
    "        dataset.append([np.array(image), class_label])\n",
    "        # Increment the count of processed images\n",
    "        count += 1\n",
    "    \n",
    "    return dataset"
   ]
  },
  {
   "cell_type": "code",
   "execution_count": null,
   "metadata": {
    "execution": {
     "iopub.status.busy": "2023-09-27T19:50:12.616092Z",
     "iopub.status.idle": "2023-09-27T19:50:12.621831Z",
     "shell.execute_reply": "2023-09-27T19:50:12.621587Z",
     "shell.execute_reply.started": "2023-09-27T19:50:12.621562Z"
    },
    "trusted": true
   },
   "outputs": [],
   "source": [
    "# Initialize an empty list to store the dataset\n",
    "dataset = []\n",
    "# Define the maximum number of images to be considered for each class (optional)\n",
    "max_images_per_class = 1000\n",
    "\n",
    "# Print message to indicate the start of the dataset building process\n",
    "print(\"START building dataset\")\n",
    "\n",
    "# Loop through each class in the list of classes (CLASSES)\n",
    "for i, class_ in enumerate(CLASSES):\n",
    "    # Print the current class being processed along with its index\n",
    "    print(f\"[{i+1}/{len(CLASSES)}] adding {class_short2full[class_]} to dataset ...\")\n",
    "    \n",
    "    # Check if the current class is in the list of classes to exclude (EXCLUDE_CLASSES)\n",
    "    if class_ in EXCLUDE_CLASSES:\n",
    "        # Assign the class label to the excluded class\n",
    "        empty_label = class_dict[class_]\n",
    "        # Append a dummy image (empty array of zeros) for the excluded class to the dataset\n",
    "        dataset.append([np.zeros((IMG_SIZE, IMG_SIZE, 3), dtype=np.uint8), empty_label])\n",
    "    else:\n",
    "        # Get the list of image filenames for the current class from dict_img_list\n",
    "        img_list = dict_img_list[class_]\n",
    "        # Retrieve the class label (index) for the current class\n",
    "        class_label = class_dict[class_]\n",
    "        # Call the create_dataset function to process the images and add them to the dataset\n",
    "        dataset += create_dataset(img_list, class_label, max_images=None)\n",
    "\n",
    "# Shuffle the dataset randomly to ensure varied order of images during training\n",
    "random.shuffle(dataset)\n",
    "\n",
    "print(\"COMPLETE building dataset\")\n"
   ]
  },
  {
   "cell_type": "code",
   "execution_count": null,
   "metadata": {
    "execution": {
     "iopub.status.busy": "2023-09-27T19:50:12.622925Z",
     "iopub.status.idle": "2023-09-27T19:50:12.623641Z",
     "shell.execute_reply": "2023-09-27T19:50:12.623423Z",
     "shell.execute_reply.started": "2023-09-27T19:50:12.623386Z"
    },
    "trusted": true
   },
   "outputs": [],
   "source": [
    "len(dataset)"
   ]
  },
  {
   "cell_type": "code",
   "execution_count": null,
   "metadata": {
    "execution": {
     "iopub.status.busy": "2023-09-27T19:50:12.624762Z",
     "iopub.status.idle": "2023-09-27T19:50:12.625472Z",
     "shell.execute_reply": "2023-09-27T19:50:12.625239Z",
     "shell.execute_reply.started": "2023-09-27T19:50:12.625216Z"
    },
    "trusted": true
   },
   "outputs": [],
   "source": [
    "from sklearn.model_selection import train_test_split\n",
    "from tensorflow.keras.utils import to_categorical\n",
    "\n",
    "# Parameters for data splitting and preprocessing\n",
    "image_size = 224  # Size of each image (224x224 pixels)\n",
    "num_classes = 7  \n",
    "train_ratio = 0.7  # Ratio of data used for training\n",
    "val_ratio = 0.15   # Ratio of data used for validation\n",
    "\n",
    "# `train_x` holds the image data, reshaped to (num_images, image_size, image_size, 3)\n",
    "train_x = np.array([i[0] for i in dataset]).reshape(-1, image_size, image_size, 3)\n",
    "\n",
    "# `train_y` holds the corresponding class labels for each image\n",
    "train_y = np.array([i[1] for i in dataset])\n",
    "\n",
    "# Calculating the number of images for each split (train, val, and test)\n",
    "num_images = len(train_x) \n",
    "num_train = int(num_images * train_ratio) \n",
    "num_val = int(num_images * val_ratio)    \n",
    "num_test = num_images - num_train - num_val \n",
    "\n",
    "# Splitting the dataset into training data and the remaining data (validation + test)\n",
    "# The `train_size` parameter ensures the training data split is the specified number of images\n",
    "x_train, x_remaining, y_train, y_remaining = train_test_split(train_x, train_y, train_size=num_train, random_state=42)\n",
    "\n",
    "# Further splitting the remaining data into validation and test sets\n",
    "# `test_size=num_test` ensures the remaining data is split such that the test set gets the right number of images\n",
    "x_val, x_test, y_val, y_test = train_test_split(x_remaining, y_remaining, test_size=num_test, random_state=42)\n",
    "\n",
    "# Convert the labels to one-hot encoded format (categorical)\n",
    "y_train = to_categorical(y_train, num_classes)  # One-hot encoding for training labels\n",
    "y_val = to_categorical(y_val, num_classes)      # One-hot encoding for validation labels\n",
    "y_test = to_categorical(y_test, num_classes)    # One-hot encoding for test labels\n",
    "\n",
    "# Print the number of images in each data split (train, validation, and test)\n",
    "print(f\"Number of images - Train: {len(x_train)}, Validation: {len(x_val)}, Test: {len(x_test)}\")\n"
   ]
  },
  {
   "cell_type": "code",
   "execution_count": null,
   "metadata": {
    "execution": {
     "iopub.status.busy": "2023-09-27T19:50:12.629762Z",
     "iopub.status.idle": "2023-09-27T19:50:12.636756Z",
     "shell.execute_reply": "2023-09-27T19:50:12.636514Z",
     "shell.execute_reply.started": "2023-09-27T19:50:12.636487Z"
    },
    "trusted": true
   },
   "outputs": [],
   "source": [
    "print(\"Shape of x_train:\", x_train.shape)\n",
    "print(\"Shape of x_val:\", x_val.shape)\n",
    "print(\"Shape of y_val:\", y_val.shape)\n",
    "print(\"Shape of y_train:\", y_train.shape)\n",
    "print(\"Shape of x_test:\", x_test.shape)\n",
    "print(\"Shape of y_test:\", y_test.shape)"
   ]
  },
  {
   "cell_type": "code",
   "execution_count": null,
   "metadata": {
    "execution": {
     "iopub.status.busy": "2023-09-27T19:50:12.637911Z",
     "iopub.status.idle": "2023-09-27T19:50:12.638641Z",
     "shell.execute_reply": "2023-09-27T19:50:12.638425Z",
     "shell.execute_reply.started": "2023-09-27T19:50:12.638387Z"
    },
    "trusted": true
   },
   "outputs": [],
   "source": [
    "# Define the number of output classes (7 in this case)\n",
    "NUM_CLASSES = 7\n",
    "\n",
    "# Convert the training labels to one-hot encoding with 7 output classes\n",
    "y_train = to_categorical(y_train, num_classes=NUM_CLASSES)\n",
    "# Convert the validation labels to one-hot encoding with 7 output classes\n",
    "y_val = to_categorical(y_val, num_classes=NUM_CLASSES)\n",
    "# Convert the test labels to one-hot encoding with 7 output classes\n",
    "y_test = to_categorical(y_test, num_classes=NUM_CLASSES)\n"
   ]
  },
  {
   "cell_type": "code",
   "execution_count": null,
   "metadata": {
    "execution": {
     "iopub.status.busy": "2023-09-27T19:50:12.640561Z",
     "iopub.status.idle": "2023-09-27T19:50:12.641064Z",
     "shell.execute_reply": "2023-09-27T19:50:12.640812Z",
     "shell.execute_reply.started": "2023-09-27T19:50:12.640787Z"
    },
    "trusted": true
   },
   "outputs": [],
   "source": [
    "print(\"Shape of y_train:\", y_train.shape)\n",
    "print(\"Shape of y_val:\", y_val.shape)\n",
    "print(\"Shape of y_test:\", y_test.shape)"
   ]
  },
  {
   "cell_type": "code",
   "execution_count": null,
   "metadata": {
    "execution": {
     "iopub.status.busy": "2023-09-27T19:50:12.642675Z",
     "iopub.status.idle": "2023-09-27T19:50:12.643197Z",
     "shell.execute_reply": "2023-09-27T19:50:12.642937Z",
     "shell.execute_reply.started": "2023-09-27T19:50:12.642915Z"
    },
    "trusted": true
   },
   "outputs": [],
   "source": [
    "# Convert one-hot encoded labels to class labels\n",
    "y_train_labels = np.argmax(y_train, axis=1)  # Converts each one-hot encoded label back to its class index\n",
    "\n",
    "# Count the occurrences of each class in the test set\n",
    "test_class_counts = np.bincount(y_train_labels)  # Counts the number of occurrences for each class in the train labels\n",
    "\n",
    "# Print the number of images for each class in the test set\n",
    "for class_label, count in enumerate(test_class_counts):\n",
    "    # Display the count of images for each class\n",
    "    print(f\"Class {class_label}: {count} images\")"
   ]
  },
  {
   "cell_type": "markdown",
   "metadata": {},
   "source": [
    "## Part 2 - Second Dataset Preparation"
   ]
  },
  {
   "cell_type": "markdown",
   "metadata": {},
   "source": [
    "The same procedure as in part 1 was applied here, so it is not commented in detail."
   ]
  },
  {
   "cell_type": "code",
   "execution_count": null,
   "metadata": {
    "execution": {
     "iopub.status.busy": "2023-09-27T19:50:12.646435Z",
     "iopub.status.idle": "2023-09-27T19:50:12.646925Z",
     "shell.execute_reply": "2023-09-27T19:50:12.646689Z",
     "shell.execute_reply.started": "2023-09-27T19:50:12.646667Z"
    },
    "trusted": true
   },
   "outputs": [],
   "source": [
    "data_v2 = pd.read_csv(\"/kaggle/input/combined-tsne-new-1/combined_tsne_new-1.csv\")"
   ]
  },
  {
   "cell_type": "code",
   "execution_count": null,
   "metadata": {
    "execution": {
     "iopub.status.busy": "2023-09-27T19:50:12.652129Z",
     "iopub.status.idle": "2023-09-27T19:50:12.652684Z",
     "shell.execute_reply": "2023-09-27T19:50:12.652465Z",
     "shell.execute_reply.started": "2023-09-27T19:50:12.652442Z"
    },
    "trusted": true
   },
   "outputs": [],
   "source": [
    "data_v2[\"class\"] = data_v2[\"labels\"].apply(lambda x: \" \".join(re.findall(\"[a-zA-Z]+\", x)))"
   ]
  },
  {
   "cell_type": "code",
   "execution_count": null,
   "metadata": {
    "execution": {
     "iopub.status.busy": "2023-09-27T19:50:12.654403Z",
     "iopub.status.idle": "2023-09-27T19:50:12.654936Z",
     "shell.execute_reply": "2023-09-27T19:50:12.654686Z",
     "shell.execute_reply.started": "2023-09-27T19:50:12.654660Z"
    },
    "trusted": true
   },
   "outputs": [],
   "source": [
    "EXCLUDE_CLASSES = [\"G\", \"C\", \"A\", \"H\", \"M\"]\n",
    "CLASSES = [\"D\", \"G\", \"C\", \"A\", \"H\", \"M\", \"N\"]"
   ]
  },
  {
   "cell_type": "code",
   "execution_count": null,
   "metadata": {
    "execution": {
     "iopub.status.busy": "2023-09-27T19:50:12.656554Z",
     "iopub.status.idle": "2023-09-27T19:50:12.660753Z",
     "shell.execute_reply": "2023-09-27T19:50:12.660520Z",
     "shell.execute_reply.started": "2023-09-27T19:50:12.660492Z"
    },
    "trusted": true
   },
   "outputs": [],
   "source": [
    "dict_img_list = {\n",
    "    class_: data_v2.loc[data_v2[\"class\"]==class_][\"filename\"].values\n",
    "    for class_ in class_short2full.keys()\n",
    "}"
   ]
  },
  {
   "cell_type": "code",
   "execution_count": null,
   "metadata": {
    "execution": {
     "iopub.status.busy": "2023-09-27T19:50:12.662002Z",
     "iopub.status.idle": "2023-09-27T19:50:12.662330Z",
     "shell.execute_reply": "2023-09-27T19:50:12.662186Z",
     "shell.execute_reply.started": "2023-09-27T19:50:12.662170Z"
    },
    "trusted": true
   },
   "outputs": [],
   "source": [
    "dataset_v2 = []\n",
    "max_images_per_class = 1000\n",
    "\n",
    "print(\"START building dataset\")\n",
    "for i, class_ in enumerate(CLASSES):\n",
    "    print(f\"[{i+1}/{len(CLASSES)}] adding {class_short2full[class_]} to dataset ...\")\n",
    "    if class_ in EXCLUDE_CLASSES:\n",
    "        empty_label = class_dict[class_]\n",
    "        dataset.append([np.zeros((IMG_SIZE, IMG_SIZE, 3), dtype=np.uint8), empty_label])\n",
    "    else:\n",
    "        img_list = dict_img_list[class_]\n",
    "        class_label = class_dict[class_]\n",
    "        dataset_v2 += create_dataset(img_list, class_label, max_images=None)\n",
    "\n",
    "random.shuffle(dataset_v2)\n",
    "\n",
    "print(\"COMPLETE building dataset\")"
   ]
  },
  {
   "cell_type": "code",
   "execution_count": null,
   "metadata": {
    "execution": {
     "iopub.status.busy": "2023-09-27T19:50:12.663561Z",
     "iopub.status.idle": "2023-09-27T19:50:12.664005Z",
     "shell.execute_reply": "2023-09-27T19:50:12.663792Z",
     "shell.execute_reply.started": "2023-09-27T19:50:12.663773Z"
    },
    "trusted": true
   },
   "outputs": [],
   "source": [
    "len(dataset_v2)"
   ]
  },
  {
   "cell_type": "code",
   "execution_count": null,
   "metadata": {
    "execution": {
     "iopub.status.busy": "2023-09-27T19:50:12.664843Z",
     "iopub.status.idle": "2023-09-27T19:50:12.666377Z",
     "shell.execute_reply": "2023-09-27T19:50:12.666166Z",
     "shell.execute_reply.started": "2023-09-27T19:50:12.666145Z"
    },
    "trusted": true
   },
   "outputs": [],
   "source": [
    "# Parameters\n",
    "image_size = 224\n",
    "num_classes = 7\n",
    "train_ratio = 0.7\n",
    "val_ratio = 0.15\n",
    "\n",
    "# Preparing predictors and target variables\n",
    "train_x_v2 = np.array([i[0] for i in dataset_v2]).reshape(-1, image_size, image_size, 3)\n",
    "train_y_v2 = np.array([i[1] for i in dataset_v2])\n",
    "\n",
    "# Calculating the number of images for each split\n",
    "num_images = len(train_x_v2)\n",
    "num_train = int(num_images * train_ratio)\n",
    "num_val = int(num_images * val_ratio)\n",
    "num_test = num_images - num_train - num_val\n",
    "\n",
    "# Splitting the dataset into train and remaining (validation + test)\n",
    "x_train_v2, x_remaining_v2, y_train_v2, y_remaining_v2 = train_test_split(train_x_v2, train_y_v2, train_size=num_train, random_state=42)\n",
    "\n",
    "# Further splitting the remaining data into validation and test\n",
    "x_val_v2, x_test_v2, y_val_v2, y_test_v2 = train_test_split(x_remaining_v2, y_remaining_v2, test_size=num_test, random_state=42)\n",
    "\n",
    "# Convert labels to categorical\n",
    "y_train_v2 = to_categorical(y_train_v2, num_classes)\n",
    "y_val_v2 = to_categorical(y_val_v2, num_classes)\n",
    "y_test_v2 = to_categorical(y_test_v2, num_classes)\n",
    "\n",
    "# Print the number of images in each split\n",
    "print(f\"Number of images - Train: {len(x_train_v2)}, Validation: {len(x_val_v2)}, Test: {len(x_test_v2)}\")\n"
   ]
  },
  {
   "cell_type": "code",
   "execution_count": null,
   "metadata": {
    "execution": {
     "iopub.status.busy": "2023-09-27T19:50:12.672362Z",
     "iopub.status.idle": "2023-09-27T19:50:12.673449Z",
     "shell.execute_reply": "2023-09-27T19:50:12.673083Z",
     "shell.execute_reply.started": "2023-09-27T19:50:12.673060Z"
    },
    "trusted": true
   },
   "outputs": [],
   "source": [
    "print(\"Shape of x_train:\", x_train_v2.shape)\n",
    "print(\"Shape of x_val:\", x_val_v2.shape)\n",
    "print(\"Shape of y_val:\", y_val_v2.shape)\n",
    "print(\"Shape of y_train:\", y_train_v2.shape)\n",
    "print(\"Shape of x_test:\", x_test_v2.shape)\n",
    "print(\"Shape of y_test:\", y_test_v2.shape)"
   ]
  },
  {
   "cell_type": "code",
   "execution_count": null,
   "metadata": {
    "execution": {
     "iopub.status.busy": "2023-09-27T19:50:12.675165Z",
     "iopub.status.idle": "2023-09-27T19:50:12.675863Z",
     "shell.execute_reply": "2023-09-27T19:50:12.675640Z",
     "shell.execute_reply.started": "2023-09-27T19:50:12.675618Z"
    },
    "trusted": true
   },
   "outputs": [],
   "source": [
    "y_train_v2 = to_categorical(y_train_v2, num_classes=NUM_CLASSES)\n",
    "y_val_v2 = to_categorical(y_val_v2, num_classes=NUM_CLASSES)\n",
    "y_test_v2 = to_categorical(y_test_v2, num_classes=NUM_CLASSES)"
   ]
  },
  {
   "cell_type": "code",
   "execution_count": null,
   "metadata": {
    "execution": {
     "iopub.status.busy": "2023-09-27T19:50:12.677204Z",
     "iopub.status.idle": "2023-09-27T19:50:12.677940Z",
     "shell.execute_reply": "2023-09-27T19:50:12.677717Z",
     "shell.execute_reply.started": "2023-09-27T19:50:12.677695Z"
    },
    "trusted": true
   },
   "outputs": [],
   "source": [
    "print(\"Shape of y_train:\", y_train_v2.shape)\n",
    "print(\"Shape of y_val:\", y_val_v2.shape)\n",
    "print(\"Shape of y_test:\", y_test_v2.shape)"
   ]
  },
  {
   "cell_type": "code",
   "execution_count": null,
   "metadata": {
    "execution": {
     "iopub.status.busy": "2023-09-27T19:50:12.679181Z",
     "iopub.status.idle": "2023-09-27T19:50:12.679992Z",
     "shell.execute_reply": "2023-09-27T19:50:12.679724Z",
     "shell.execute_reply.started": "2023-09-27T19:50:12.679700Z"
    },
    "trusted": true
   },
   "outputs": [],
   "source": [
    "# Convert one-hot encoded labels to class labels\n",
    "y_train_labels = np.argmax(y_train_v2, axis=1)\n",
    "\n",
    "# Count the occurrences of each class in the test set\n",
    "test_class_counts = np.bincount(y_train_labels)\n",
    "\n",
    "# Print the number of images for each class in the test set\n",
    "for class_label, count in enumerate(test_class_counts):\n",
    "    print(f\"Class {class_label}: {count} images\")"
   ]
  },
  {
   "cell_type": "markdown",
   "metadata": {},
   "source": [
    "# **Part 3 Concating**"
   ]
  },
  {
   "cell_type": "code",
   "execution_count": null,
   "metadata": {
    "execution": {
     "iopub.status.busy": "2023-09-27T19:50:12.681214Z",
     "iopub.status.idle": "2023-09-27T19:50:12.681903Z",
     "shell.execute_reply": "2023-09-27T19:50:12.681689Z",
     "shell.execute_reply.started": "2023-09-27T19:50:12.681668Z"
    },
    "trusted": true
   },
   "outputs": [],
   "source": [
    "import numpy as np\n",
    "\n",
    "# Concatenate the existing training data with the new dataset's training data\n",
    "combined_train_x = np.concatenate((x_train_v2, x_train), axis=0)\n",
    "combined_train_y = np.concatenate((y_train_v2, y_train), axis=0)\n",
    "\n",
    "# Concatenate the existing training data with the new dataset's training data\n",
    "combined_val_x = np.concatenate((x_val_v2, x_val), axis=0)\n",
    "combined_val_y = np.concatenate((y_val_v2, y_val), axis=0)\n",
    "\n",
    "combined_test_x = np.concatenate((x_test_v2, x_test), axis=0)\n",
    "combined_test_y = np.concatenate((y_test_v2, y_test), axis=0)\n",
    "\n",
    "# Save the combined training data for future use\n",
    "np.save('/kaggle/working/x_train.npy', combined_train_x)\n",
    "np.save('/kaggle/working/y_train.npy', combined_train_y)\n",
    "\n",
    "np.save('/kaggle/working/x_val.npy', combined_val_x)\n",
    "np.save('/kaggle/working/y_val.npy', combined_val_y)\n",
    "\n",
    "np.save('/kaggle/working/x_test.npy', combined_test_x)\n",
    "np.save('/kaggle/working/y_test.npy', combined_test_y)"
   ]
  },
  {
   "cell_type": "code",
   "execution_count": null,
   "metadata": {
    "execution": {
     "iopub.status.busy": "2023-09-27T19:50:12.683024Z",
     "iopub.status.idle": "2023-09-27T19:50:12.683634Z",
     "shell.execute_reply": "2023-09-27T19:50:12.683439Z",
     "shell.execute_reply.started": "2023-09-27T19:50:12.683419Z"
    },
    "trusted": true
   },
   "outputs": [],
   "source": [
    "# Convert one-hot encoded labels to class labels\n",
    "y_val_labels = np.argmax(combined_train_y, axis=1)\n",
    "\n",
    "# Count the occurrences of each class in the test set\n",
    "test_class_counts = np.bincount(y_val_labels)\n",
    "\n",
    "# Print the number of images for each class in the test set\n",
    "for class_label, count in enumerate(test_class_counts):\n",
    "    print(f\"Class {class_label}: {count} images\")"
   ]
  }
 ],
 "metadata": {
  "kernelspec": {
   "display_name": "Python 3",
   "language": "python",
   "name": "python3"
  },
  "language_info": {
   "codemirror_mode": {
    "name": "ipython",
    "version": 3
   },
   "file_extension": ".py",
   "mimetype": "text/x-python",
   "name": "python",
   "nbconvert_exporter": "python",
   "pygments_lexer": "ipython3",
   "version": "3.10.12"
  }
 },
 "nbformat": 4,
 "nbformat_minor": 4
}
