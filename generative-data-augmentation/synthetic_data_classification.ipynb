{
 "cells": [
  {
   "cell_type": "code",
   "execution_count": null,
   "metadata": {
    "colab": {
     "base_uri": "https://localhost:8080/"
    },
    "id": "ErA1TVEl0aii",
    "outputId": "981a1651-b10e-4e62-b93c-a115859e34b8"
   },
   "outputs": [],
   "source": [
    "#mount drive\n",
    "%cd ..\n",
    "from google.colab import drive\n",
    "drive.mount('/content/gdrive')\n",
    "\n",
    "# this creates a symbolic link so that now the path /content/gdrive/My\\ Drive/ is equal to /mydrive\n",
    "!ln -s /content/gdrive/My\\ Drive/ /mydrive\n",
    "\n",
    "# list the contents of /mydrive\n",
    "!ls /mydrive\n",
    "\n",
    "#Navigate to /mydrive/yolov4\n",
    "%cd /mydrive/Ocular_Disease/"
   ]
  },
  {
   "cell_type": "code",
   "execution_count": null,
   "metadata": {
    "colab": {
     "base_uri": "https://localhost:8080/"
    },
    "id": "J_XGiowd9Bi9",
    "outputId": "8a9302c0-7fe6-48ce-9bc1-7c02e5fd78d1"
   },
   "outputs": [],
   "source": [
    "!pip install tensorflow-addons"
   ]
  },
  {
   "cell_type": "code",
   "execution_count": null,
   "metadata": {
    "id": "9VFEzEF90b91"
   },
   "outputs": [],
   "source": [
    "import os\n",
    "import shutil\n",
    "import numpy as np\n",
    "import pandas as pd\n",
    "import tensorflow as tf\n",
    "import matplotlib.pyplot as plt\n",
    "\n",
    "from PIL import Image\n",
    "from tensorflow_addons.metrics import F1Score  # Import the F1Score metric from TensorFlow Addons\n",
    "from tensorflow.keras.models import load_model\n",
    "from tensorflow.keras.preprocessing.image import load_img, img_to_array\n",
    "\n",
    "# Register the custom object\n",
    "custom_objects = {'F1Score': F1Score}\n",
    "\n",
    "# Load the saved Keras model\n",
    "with tf.keras.utils.custom_object_scope(custom_objects):\n",
    "    model = load_model('./ocular_disease_model.h5')"
   ]
  },
  {
   "cell_type": "markdown",
   "metadata": {
    "id": "yBXrQotJ2eiM"
   },
   "source": [
    "##  Classification"
   ]
  },
  {
   "cell_type": "code",
   "execution_count": null,
   "metadata": {},
   "outputs": [],
   "source": [
    "# Define the desired image size for model input\n",
    "image_size = (224, 224)\n",
    "\n",
    "# Define the class labels\n",
    "class_labels = ['cataract', 'glaucoma', 'hyper', 'myopia', 'age', 'other']\n",
    "\n",
    "# Set the directory where the test images are stored\n",
    "test_data_dir = '/content/gdrive/MyDrive/Ocular_Disease/sd_outputs'\n",
    "\n",
    "# Create directories for storing images by their predicted class labels\n",
    "for label in class_labels:\n",
    "    label_dir = os.path.join(test_data_dir, 'results', label)\n",
    "    tf.io.gfile.makedirs(label_dir)  # Ensure the directory exists for each label\n",
    "\n",
    "# Iterate over each class folder\n",
    "for class_label in class_labels:\n",
    "    # Get all images from the class directory\n",
    "    class_dir = os.path.join(test_data_dir, class_label)\n",
    "    test_images = os.listdir(class_dir)  # Get all image filenames from the current class folder\n",
    "\n",
    "    # Process each test image, make predictions, and save them in the corresponding directory\n",
    "    for image_file in test_images:\n",
    "        # Load and preprocess the image\n",
    "        image_path = os.path.join(class_dir, image_file)\n",
    "        image = load_img(image_path, target_size=image_size)  # Resize image\n",
    "        image_array = img_to_array(image)  # Convert image to an array\n",
    "        image_tensor = tf.expand_dims(image_array, 0)  # Add batch dimension\n",
    "\n",
    "        # Get model's prediction for the image\n",
    "        outputs = model.predict(image_tensor)\n",
    "        predicted = tf.argmax(outputs, axis=1)  # Get index of predicted class\n",
    "        predicted_label = class_labels[predicted.numpy()[0]]  # Get the label name based on prediction\n",
    "\n",
    "        # Print the prediction result for reference\n",
    "        print(f'Image: {image_file}, Predicted class: {predicted_label}')\n",
    "\n",
    "        # Move the image to the corresponding folder for its predicted class\n",
    "        destination_dir = os.path.join(test_data_dir, 'result_cataract', predicted_label)\n",
    "        destination_path = os.path.join(destination_dir, image_file)  # Define the path to save the image\n",
    "        shutil.copyfile(image_path, destination_path)  # Copy image to the appropriate folder\n"
   ]
  },
  {
   "cell_type": "markdown",
   "metadata": {},
   "source": [
    "## For Mapping"
   ]
  },
  {
   "cell_type": "code",
   "execution_count": null,
   "metadata": {},
   "outputs": [],
   "source": [
    "from tensorflow.keras.preprocessing import image\n",
    "from sklearn.metrics import confusion_matrix\n",
    "\n",
    "# Specify the path to the test images directory\n",
    "test_dir = '/content/gdrive/MyDrive/Ocular_Disease/sd_outputs/try'  # Directory where test images are stored\n",
    "\n",
    "# Load the dataset CSV file which contains the true labels for the test images\n",
    "dataset_file = '/content/gdrive/MyDrive/Ocular_Disease/true_labels.csv'\n",
    "df = pd.read_csv(dataset_file)  # Read the CSV into a DataFrame\n",
    "\n",
    "# Extract the image filenames and true labels from the dataset\n",
    "image_files = df['image'].values  # List of image filenames\n",
    "true_labels = df['true_label'].values  # List of corresponding true labels\n",
    "\n",
    "# Create lists to store predictions and predicted labels\n",
    "predictions = []  # List to store model's raw predictions\n",
    "predicted_labels = []  # List to store the predicted class labels\n",
    "\n",
    "# Perform inference for each image in the directory\n",
    "for image_file in image_files:\n",
    "    # Load and preprocess the test image\n",
    "    image_path = os.path.join(test_dir, image_file)  # Get the full image path\n",
    "    img = image.load_img(image_path, target_size=(224, 224))  # Load and resize the image\n",
    "    x = image.img_to_array(img)  # Convert image to array\n",
    "    x = np.expand_dims(x, axis=0)  # Add batch dimension\n",
    "\n",
    "    # Perform the inference (predict the class for the image)\n",
    "    prediction = model.predict(x)  # Get the model's output\n",
    "    predicted_label_index = np.argmax(prediction)  # Get index of the predicted class (class with highest probability)\n",
    "    predicted_label = class_labels[predicted_label_index]  # Convert index to class label\n",
    "\n",
    "    # Append the prediction and predicted label to the respective lists\n",
    "    predictions.append(prediction)  # Store raw prediction\n",
    "    predicted_labels.append(predicted_label)  # Store predicted class label\n",
    "\n",
    "# Convert the lists to numpy arrays for easier processing later\n",
    "predictions = np.array(predictions)  # Convert list of raw predictions to numpy array\n",
    "predicted_labels = np.array(predicted_labels)  # Convert list of predicted labels to numpy array\n",
    "\n",
    "# Compute the confusion matrix comparing true labels vs predicted labels\n",
    "conf_mat = confusion_matrix(true_labels, predicted_labels)\n",
    "\n",
    "# Define a function to plot the confusion matrix\n",
    "def plot_confusion_matrix(cm, classes, normalize=False,\n",
    "                          title='Confusion matrix',\n",
    "                          cmap=plt.cm.Blues):\n",
    "    if normalize:\n",
    "        cm = cm.astype('float') / cm.sum(axis=1)[:, np.newaxis]  # Normalize the matrix to percentages\n",
    "        print(\"Normalized confusion matrix\")\n",
    "    else:\n",
    "        print('Confusion matrix, without normalization')\n",
    "\n",
    "    plt.imshow(cm, interpolation='nearest', cmap=cmap)  # Plot the confusion matrix as an image\n",
    "    plt.title(title)  # Set the title for the plot\n",
    "    plt.colorbar()  # Add a color bar\n",
    "    tick_marks = np.arange(len(classes))  # Set tick marks based on the number of classes\n",
    "    plt.xticks(tick_marks, classes, rotation=45)  # Set x-axis labels with class names\n",
    "    plt.yticks(tick_marks, classes)  # Set y-axis labels with class names\n",
    "\n",
    "    fmt = '.2f' if normalize else 'd'  # Format values as percentage or integer\n",
    "    thresh = cm.max() / 2.  # Determine threshold for text color based on matrix values\n",
    "    for i, j in itertools.product(range(cm.shape[0]), range(cm.shape[1])):  # Loop over matrix cells\n",
    "        plt.text(j, i, format(cm[i, j], fmt),  # Annotate matrix with values\n",
    "                 horizontalalignment=\"center\",\n",
    "                 color=\"white\" if cm[i, j] > thresh else \"black\")  # Use white or black text for contrast\n",
    "\n",
    "    plt.tight_layout()  # Ensure everything fits without overlap\n",
    "    plt.ylabel('True label')  # Label for the y-axis\n",
    "    plt.xlabel('Predicted label')  # Label for the x-axis\n",
    "\n",
    "# Plot the confusion matrix for the true vs predicted labels\n",
    "plt.figure(figsize=(10, 5))  # Set the figure size\n",
    "plt.grid(False)  # Disable grid lines\n",
    "plot_confusion_matrix(conf_mat, classes=['normal', 'cataract', 'diab', 'glaucoma', 'hyper', 'myopia', 'age', 'other'], normalize=False)\n",
    "plt.show()"
   ]
  },
  {
   "cell_type": "markdown",
   "metadata": {},
   "source": [
    "## Visualization Test"
   ]
  },
  {
   "cell_type": "code",
   "execution_count": null,
   "metadata": {},
   "outputs": [],
   "source": [
    "# Set the path to the directory containing your test images\n",
    "test_dir = '/content/gdrive/MyDrive/Ocular_Disease/sd_outputs/result_hypertensive'\n",
    "\n",
    "# Get a list of image file names in the test directory\n",
    "image_files = os.listdir(test_dir)"
   ]
  },
  {
   "cell_type": "code",
   "execution_count": null,
   "metadata": {},
   "outputs": [],
   "source": [
    "# Calculate the number of rows and columns for subplots based on the number of images\n",
    "num_images = len(image_files)  # Get the total number of images to display\n",
    "num_rows = int(np.ceil(np.sqrt(num_images)))  # Calculate the number of rows for the subplots\n",
    "num_cols = int(np.ceil(num_images / num_rows))  # Calculate the number of columns based on the number of rows\n",
    "\n",
    "# Create subplots to display the images with appropriate figure size\n",
    "fig, axes = plt.subplots(num_rows, num_cols, figsize=(18, 18))  # Create a grid of subplots for displaying images\n",
    "\n",
    "# Perform inference for each image in the directory and display it in the corresponding subplot\n",
    "for i, image_file in enumerate(image_files):\n",
    "    # Load and preprocess the test image\n",
    "    image_path = os.path.join(test_dir, image_file)  # Get the full path to the image file\n",
    "    img = image.load_img(image_path, target_size=(224, 224))  # Load and resize the image\n",
    "    x = image.img_to_array(img)  # Convert the image to an array format\n",
    "    x = np.expand_dims(x, axis=0)  # Add batch dimension for model input\n",
    "\n",
    "    # Perform inference to get the model's prediction for the image\n",
    "    predictions = model.predict(x)  # Get the prediction probabilities from the model\n",
    "    predicted_label_index = np.argmax(predictions)  # Find the index of the class with the highest probability\n",
    "    predicted_label = class_labels[predicted_label_index]  # Get the predicted label name using the index\n",
    "\n",
    "    # Get the subplot index for the current image (row and column)\n",
    "    row_idx = i // num_cols  # Determine the row index for the subplot\n",
    "    col_idx = i % num_cols  # Determine the column index for the subplot\n",
    "\n",
    "    # Display the image and predicted label in the corresponding subplot\n",
    "    axes[row_idx, col_idx].imshow(img)  # Display the image in the subplot\n",
    "    axes[row_idx, col_idx].set_title(f'Predicted: {predicted_label}')  # Set the title with the predicted label\n",
    "    axes[row_idx, col_idx].axis('off')  # Turn off axis labels for better visualization\n",
    "\n",
    "# Adjust the spacing between subplots to avoid overlap\n",
    "plt.subplots_adjust(hspace=1, wspace=1)  # Adjust horizontal and vertical spacing between subplots\n",
    "\n",
    "plt.show()"
   ]
  }
 ],
 "metadata": {
  "colab": {
   "provenance": []
  },
  "kernelspec": {
   "display_name": "Python 3",
   "name": "python3"
  },
  "language_info": {
   "name": "python"
  }
 },
 "nbformat": 4,
 "nbformat_minor": 0
}
