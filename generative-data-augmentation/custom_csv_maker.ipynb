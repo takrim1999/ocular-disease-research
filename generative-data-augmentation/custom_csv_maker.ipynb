{
 "cells": [
  {
   "cell_type": "code",
   "execution_count": null,
   "metadata": {
    "colab": {
     "base_uri": "https://localhost:8080/"
    },
    "id": "z69nBJT-43QD",
    "outputId": "7fb74c5e-27a3-4ebb-cd96-05841d2a2851"
   },
   "outputs": [],
   "source": [
    "#mount drive\n",
    "%cd ..\n",
    "from google.colab import drive\n",
    "drive.mount('/content/gdrive')\n",
    "\n",
    "# this creates a symbolic link so that now the path /content/gdrive/My\\ Drive/ is equal to /mydrive\n",
    "!ln -s /content/gdrive/My\\ Drive/ /mydrive\n",
    "\n",
    "# list the contents of /mydrive\n",
    "!ls /mydrive\n",
    "\n",
    "#Navigate to /mydrive/yolov4\n",
    "%cd /mydrive/Ocular_Disease/"
   ]
  },
  {
   "cell_type": "code",
   "execution_count": null,
   "metadata": {
    "id": "Le7kvrWh5AlW"
   },
   "outputs": [],
   "source": [
    "import csv\n",
    "\n",
    "# Define the true label\n",
    "true_label = 'cataract'\n",
    "\n",
    "# Create a list of data points with the true label\n",
    "data = [['image_{}.png'.format(i), true_label] for i in range(586)]\n",
    "\n",
    "# Specify the path to save the CSV file\n",
    "csv_file = '/content/gdrive/MyDrive/Ocular_Disease/cataract.csv'\n",
    "\n",
    "# Write the data to the CSV file\n",
    "with open(csv_file, 'w', newline='') as file:\n",
    "    writer = csv.writer(file)\n",
    "    writer.writerow(['image', 'true_label'])  # Write the header row\n",
    "    writer.writerows(data)  # Write the data rows\n",
    "\n",
    "print(\"CSV file created successfully.\")"
   ]
  },
  {
   "cell_type": "code",
   "execution_count": null,
   "metadata": {
    "id": "k3DPD3qC5Bqs"
   },
   "outputs": [],
   "source": [
    "import pandas as pd\n",
    "\n",
    "# Load the dataset CSV file\n",
    "dataset_file = '/content/gdrive/MyDrive/Ocular_Disease/true_labels.csv'\n",
    "df = pd.read_csv(dataset_file)\n",
    "\n",
    "# Extract the true labels column\n",
    "true_labels = df['true_label'].values"
   ]
  },
  {
   "cell_type": "markdown",
   "metadata": {
    "id": "YJ6z9a1h6WmJ"
   },
   "source": [
    "# Cataract"
   ]
  },
  {
   "cell_type": "code",
   "execution_count": null,
   "metadata": {
    "colab": {
     "base_uri": "https://localhost:8080/"
    },
    "id": "lH0ZbCa15DEc",
    "outputId": "e851d3ef-8e0d-4fc9-e1c1-22fa740a15e3"
   },
   "outputs": [
    {
     "name": "stdout",
     "output_type": "stream",
     "text": [
      "CSV file created successfully.\n"
     ]
    }
   ],
   "source": [
    "import csv\n",
    "import os\n",
    "\n",
    "# Specify the path to the folder containing the images\n",
    "image_folder = '/content/gdrive/MyDrive/Ocular_Disease/classified_output/Cataract'\n",
    "\n",
    "# Create a list of data points with the true label\n",
    "data = []\n",
    "\n",
    "# Iterate through the images in the folder\n",
    "for image_file in os.listdir(image_folder):\n",
    "    if image_file.endswith('.png'):\n",
    "        image_path = os.path.join(image_folder, image_file)\n",
    "        image_name = os.path.basename(image_file)\n",
    "        data.append([image_name, \"['C']\"])\n",
    "\n",
    "# Specify the path to save the CSV file\n",
    "csv_file = '/content/gdrive/MyDrive/Ocular_Disease/classified_output/cataract.csv'\n",
    "\n",
    "# Write the data to the CSV file\n",
    "with open(csv_file, 'w', newline='') as file:\n",
    "    writer = csv.writer(file)\n",
    "    writer.writerow(['filename', 'labels'])  # Write the header row\n",
    "    writer.writerows(data)  # Write the data rows\n",
    "\n",
    "print(\"CSV file created successfully.\")"
   ]
  },
  {
   "cell_type": "markdown",
   "metadata": {
    "id": "8coclnjf6YHj"
   },
   "source": [
    "# Myopia"
   ]
  },
  {
   "cell_type": "code",
   "execution_count": null,
   "metadata": {
    "colab": {
     "base_uri": "https://localhost:8080/"
    },
    "id": "ReHZaGpJ6eOK",
    "outputId": "db9c5425-bb9c-4ba7-caa7-be9a4c01330f"
   },
   "outputs": [
    {
     "name": "stdout",
     "output_type": "stream",
     "text": [
      "CSV file created successfully.\n"
     ]
    }
   ],
   "source": [
    "import csv\n",
    "import os\n",
    "\n",
    "# Specify the path to the folder containing the images\n",
    "image_folder = '/content/gdrive/MyDrive/Ocular_Disease/classified_output/Myopia'\n",
    "\n",
    "# Create a list of data points with the true label\n",
    "data = []\n",
    "\n",
    "# Iterate through the images in the folder\n",
    "for image_file in os.listdir(image_folder):\n",
    "    if image_file.endswith('.png'):\n",
    "        image_path = os.path.join(image_folder, image_file)\n",
    "        image_name = os.path.basename(image_file)\n",
    "        data.append([image_name, \"['M']\"])\n",
    "\n",
    "# Specify the path to save the CSV file\n",
    "csv_file = '/content/gdrive/MyDrive/Ocular_Disease/classified_output/Myopia.csv'\n",
    "\n",
    "# Write the data to the CSV file\n",
    "with open(csv_file, 'w', newline='') as file:\n",
    "    writer = csv.writer(file)\n",
    "    writer.writerow(['filename', 'labels'])  # Write the header row\n",
    "    writer.writerows(data)  # Write the data rows\n",
    "\n",
    "print(\"CSV file created successfully.\")"
   ]
  },
  {
   "cell_type": "markdown",
   "metadata": {
    "id": "_5GuG8ba6YO8"
   },
   "source": [
    "# Hypertensive"
   ]
  },
  {
   "cell_type": "code",
   "execution_count": null,
   "metadata": {
    "colab": {
     "base_uri": "https://localhost:8080/"
    },
    "id": "jUgpDFYH6kBd",
    "outputId": "f87eb21c-2a6a-47d7-8bab-cf07c31009d3"
   },
   "outputs": [
    {
     "name": "stdout",
     "output_type": "stream",
     "text": [
      "CSV file created successfully.\n"
     ]
    }
   ],
   "source": [
    "import csv\n",
    "import os\n",
    "\n",
    "# Specify the path to the folder containing the images\n",
    "image_folder = '/content/gdrive/MyDrive/Ocular_Disease/classified_output/Hypertension'\n",
    "\n",
    "# Create a list of data points with the true label\n",
    "data = []\n",
    "\n",
    "# Iterate through the images in the folder\n",
    "for image_file in os.listdir(image_folder):\n",
    "    if image_file.endswith('.png'):\n",
    "        image_path = os.path.join(image_folder, image_file)\n",
    "        image_name = os.path.basename(image_file)\n",
    "        data.append([image_name, \"['H']\"])\n",
    "\n",
    "# Specify the path to save the CSV file\n",
    "csv_file = '/content/gdrive/MyDrive/Ocular_Disease/classified_output/Hypertension.csv'\n",
    "\n",
    "# Write the data to the CSV file\n",
    "with open(csv_file, 'w', newline='') as file:\n",
    "    writer = csv.writer(file)\n",
    "    writer.writerow(['filename', 'labels'])  # Write the header row\n",
    "    writer.writerows(data)  # Write the data rows\n",
    "\n",
    "print(\"CSV file created successfully.\")"
   ]
  },
  {
   "cell_type": "markdown",
   "metadata": {
    "id": "HREnO64K6by2"
   },
   "source": [
    "# Glaucoma"
   ]
  },
  {
   "cell_type": "code",
   "execution_count": null,
   "metadata": {
    "colab": {
     "base_uri": "https://localhost:8080/"
    },
    "id": "PaFjDooM6o9N",
    "outputId": "fd0dc999-b8ec-492c-984c-4c47ff0684b8"
   },
   "outputs": [
    {
     "name": "stdout",
     "output_type": "stream",
     "text": [
      "CSV file created successfully.\n"
     ]
    }
   ],
   "source": [
    "import csv\n",
    "import os\n",
    "\n",
    "# Specify the path to the folder containing the images\n",
    "image_folder = '/content/gdrive/MyDrive/Ocular_Disease/classified_output/Glaucoma'\n",
    "\n",
    "# Create a list of data points with the true label\n",
    "data = []\n",
    "\n",
    "# Iterate through the images in the folder\n",
    "for image_file in os.listdir(image_folder):\n",
    "    if image_file.endswith('.png'):\n",
    "        image_path = os.path.join(image_folder, image_file)\n",
    "        image_name = os.path.basename(image_file)\n",
    "        data.append([image_name, \"['G']\"])\n",
    "\n",
    "# Specify the path to save the CSV file\n",
    "csv_file = '/content/gdrive/MyDrive/Ocular_Disease/classified_output/Glaucoma.csv'\n",
    "\n",
    "# Write the data to the CSV file\n",
    "with open(csv_file, 'w', newline='') as file:\n",
    "    writer = csv.writer(file)\n",
    "    writer.writerow(['filename', 'labels'])  # Write the header row\n",
    "    writer.writerows(data)  # Write the data rows\n",
    "\n",
    "print(\"CSV file created successfully.\")"
   ]
  },
  {
   "cell_type": "markdown",
   "metadata": {
    "id": "C-l1uW2b6c3M"
   },
   "source": [
    "# AMD"
   ]
  },
  {
   "cell_type": "code",
   "execution_count": null,
   "metadata": {
    "colab": {
     "base_uri": "https://localhost:8080/"
    },
    "id": "6IBT3Ovg6vUk",
    "outputId": "51451bd3-fca0-44b9-cc15-963f4ab56003"
   },
   "outputs": [
    {
     "name": "stdout",
     "output_type": "stream",
     "text": [
      "CSV file created successfully.\n"
     ]
    }
   ],
   "source": [
    "import csv\n",
    "import os\n",
    "\n",
    "# Specify the path to the folder containing the images\n",
    "image_folder = '/content/gdrive/MyDrive/Ocular_Disease/classified_output/AMD'\n",
    "\n",
    "# Create a list of data points with the true label\n",
    "data = []\n",
    "\n",
    "# Iterate through the images in the folder\n",
    "for image_file in os.listdir(image_folder):\n",
    "    if image_file.endswith('.png'):\n",
    "        image_path = os.path.join(image_folder, image_file)\n",
    "        image_name = os.path.basename(image_file)\n",
    "        data.append([image_name, \"['A']\"])\n",
    "\n",
    "# Specify the path to save the CSV file\n",
    "csv_file = '/content/gdrive/MyDrive/Ocular_Disease/classified_output/AMD.csv'\n",
    "\n",
    "# Write the data to the CSV file\n",
    "with open(csv_file, 'w', newline='') as file:\n",
    "    writer = csv.writer(file)\n",
    "    writer.writerow(['filename', 'labels'])  # Write the header row\n",
    "    writer.writerows(data)  # Write the data rows\n",
    "\n",
    "print(\"CSV file created successfully.\")"
   ]
  },
  {
   "cell_type": "markdown",
   "metadata": {
    "id": "xYUzMC715NnM"
   },
   "source": [
    "# To Write Down The Diagnostic Initials"
   ]
  },
  {
   "cell_type": "code",
   "execution_count": null,
   "metadata": {
    "id": "AXD0uSvt4-to"
   },
   "outputs": [],
   "source": [
    "import pandas as pd\n",
    "\n",
    "data = pd.read_csv('/content/gdrive/MyDrive/Ocular_Disease/csv_files/all_sentetik.csv')\n",
    "\n",
    "# Create an empty list to store the labels\n",
    "labels = []\n",
    "\n",
    "# Iterate over each row in the DataFrame\n",
    "for index, row in data.iterrows():\n",
    "    if row['N'] == 1:\n",
    "        labels.append(['N'])\n",
    "    elif row['D'] == 1:\n",
    "        labels.append(['D'])\n",
    "    elif row['G'] == 1:\n",
    "        labels.append(['G'])\n",
    "    elif row['C'] == 1:\n",
    "        labels.append(['C'])\n",
    "    elif row['A'] == 1:\n",
    "        labels.append(['A'])\n",
    "    elif row['H'] == 1:\n",
    "        labels.append(['H'])\n",
    "    elif row['M'] == 1:\n",
    "        labels.append(['M'])\n",
    "    elif row['O'] == 1:\n",
    "        labels.append(['O'])\n",
    "    else:\n",
    "        labels.append([])  # No matching condition, empty label\n",
    "\n",
    "# Assign the labels to the DataFrame\n",
    "data['labels'] = labels\n",
    "\n",
    "# Save the DataFrame back to the CSV file\n",
    "data.to_csv('./csv_files/all_synthetic_labeled.csv', index=False)"
   ]
  }
 ],
 "metadata": {
  "colab": {
   "provenance": []
  },
  "kernelspec": {
   "display_name": "Python 3",
   "name": "python3"
  },
  "language_info": {
   "name": "python"
  }
 },
 "nbformat": 4,
 "nbformat_minor": 0
}
