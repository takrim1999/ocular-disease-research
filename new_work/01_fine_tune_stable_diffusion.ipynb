{
  "cells": [
    {
      "cell_type": "markdown",
      "metadata": {},
      "source": [
        "# Step 1: Fine-tune Stable Diffusion for Ocular Disease Generation\n",
        "\n",
        "This notebook fine-tunes Stable Diffusion to generate realistic ocular disease images.\n",
        "\n",
        "## Overview\n",
        "- Load ODIR dataset images for each disease class\n",
        "- Fine-tune Stable Diffusion on each class\n",
        "- Create custom prompts for disease-specific generation\n",
        "- Save fine-tuned models for each class\n"
      ]
    },
    {
      "cell_type": "code",
      "execution_count": null,
      "metadata": {},
      "outputs": [],
      "source": [
        "# Install required dependencies for Stable Diffusion fine-tuning\n",
        "!pip install diffusers[torch] transformers accelerate xformers\n",
        "!pip install datasets peft\n",
        "\n",
        "import os\n",
        "import torch\n",
        "import numpy as np\n",
        "import pandas as pd\n",
        "import re\n",
        "from PIL import Image\n",
        "from torch.utils.data import Dataset, DataLoader\n",
        "from diffusers import StableDiffusionPipeline, DDPMScheduler, UNet2DConditionModel\n",
        "from diffusers.optimization import get_scheduler\n",
        "from transformers import CLIPTextModel, CLIPTokenizer\n",
        "import torch.nn.functional as F\n",
        "from tqdm.auto import tqdm\n",
        "\n",
        "print(\"Dependencies installed and imported successfully!\")\n"
      ]
    }
  ],
  "metadata": {
    "language_info": {
      "name": "python"
    }
  },
  "nbformat": 4,
  "nbformat_minor": 2
}
